{
 "cells": [
  {
   "cell_type": "code",
   "execution_count": 1,
   "metadata": {},
   "outputs": [],
   "source": [
    "import numpy as np\n",
    "import matplotlib.pyplot as plt\n",
    "import h5py\n",
    "\n",
    "# Display the image in jupyter notebook\n",
    "%matplotlib inline\n",
    "\n",
    "np.random.seed(1)"
   ]
  },
  {
   "cell_type": "code",
   "execution_count": 2,
   "metadata": {},
   "outputs": [],
   "source": [
    "def load_dataset():\n",
    "    # Train Dataset\n",
    "    train_dataset = h5py.File('train_catvnoncat.h5', 'r')\n",
    "    X_train = np.array(train_dataset['train_set_x'][:])\n",
    "    Y_train = np.array(train_dataset['train_set_y'][:])\n",
    "    classes = np.array(train_dataset['list_classes'][:])\n",
    "    \n",
    "    # Test Dataset\n",
    "    test_dataset = h5py.File('test_catvnoncat.h5', 'r')\n",
    "    X_test = np.array(test_dataset['test_set_x'][:])\n",
    "    Y_test = np.array(test_dataset['test_set_y'][:])\n",
    "    \n",
    "    # Reshape Y_train and Y_test to 1 row\n",
    "    Y_train = Y_train.reshape((1, Y_train.shape[0]))\n",
    "    Y_test = Y_test.reshape((1, Y_test.shape[0]))\n",
    "    \n",
    "    return X_train, Y_train, X_test, Y_test, classes\n",
    "   "
   ]
  },
  {
   "cell_type": "code",
   "execution_count": 3,
   "metadata": {},
   "outputs": [],
   "source": [
    "def preprocessing(X_train, X_test):\n",
    "    # Reshape image dataset to flatten\n",
    "    X_train = X_train.reshape(X_train.shape[0], -1).T\n",
    "    X_test = X_test.reshape(X_test.shape[0], -1).T\n",
    "    \n",
    "    # Standardise data by divided by 255\n",
    "    X_train = X_train / 255\n",
    "    X_test = X_test / 255\n",
    "    \n",
    "    return X_train, X_test"
   ]
  },
  {
   "cell_type": "code",
   "execution_count": 4,
   "metadata": {},
   "outputs": [],
   "source": [
    "def initialize_parameters(dim):\n",
    "    '''\n",
    "    Initialize parameter W with random value. To minimize multiply it with 0.01\n",
    "    Initialize parameter b with zeros\n",
    "    '''\n",
    "    np.random.seed(1)\n",
    "    \n",
    "    parameters = {}\n",
    "    for i in range(1,len(dim)):\n",
    "        parameters['W' + str(i)] = np.random.randn(dim[i], dim[i-1]) / np.sqrt(dim[i-1])\n",
    "        parameters['b' + str(i)] = np.zeros((dim[i],1))\n",
    "\n",
    "    return parameters"
   ]
  },
  {
   "cell_type": "code",
   "execution_count": 5,
   "metadata": {},
   "outputs": [],
   "source": [
    "def sigmoid(Z):\n",
    "    A = 1 / (1 + np.exp(-Z))\n",
    "    cache = Z\n",
    "    \n",
    "    return A, cache"
   ]
  },
  {
   "cell_type": "code",
   "execution_count": 6,
   "metadata": {},
   "outputs": [],
   "source": [
    "def relu(Z):\n",
    "    # Cache Z for backpropagation\n",
    "    A = np.maximum(0, Z)\n",
    "    cache = Z\n",
    "    \n",
    "    return A, cache"
   ]
  },
  {
   "cell_type": "code",
   "execution_count": 7,
   "metadata": {},
   "outputs": [],
   "source": [
    "def linear_forward(A, W, b):\n",
    "    '''\n",
    "    Compute the linear forward Z = W.A + b\n",
    "    Cache A, W, b to use in backpropagation\n",
    "    '''\n",
    "   \n",
    "    Z = np.dot(W, A) + b\n",
    "    cache = (A, W, b)\n",
    "    \n",
    "    return Z, cache"
   ]
  },
  {
   "cell_type": "code",
   "execution_count": 8,
   "metadata": {},
   "outputs": [],
   "source": [
    "def activation_forward(A, W, b, activation):\n",
    "    if activation == 'relu':\n",
    "        Z, linear_cache  = linear_forward(A, W, b)\n",
    "        A, activation_cache = relu(Z)\n",
    "    elif activation == 'sigmoid':\n",
    "        Z, linear_cache  = linear_forward(A, W, b)\n",
    "        A, activation_cache = sigmoid(Z)\n",
    "        \n",
    "    cache = (linear_cache, activation_cache)\n",
    "    return A, cache"
   ]
  },
  {
   "cell_type": "code",
   "execution_count": 9,
   "metadata": {},
   "outputs": [],
   "source": [
    "def forward_propagation(X, parameters):\n",
    "    \"\"\"\n",
    "    A_prev contain the values of previous activation values.\n",
    "    First layer activation value is X \n",
    "    From layer 1 to L-1 perform the activation 'ReLU'\n",
    "    Layer L perform the activation 'Sigmoid'\n",
    "    \"\"\"\n",
    "    A = X\n",
    "    L = len(parameters) // 2 # Number of layers\n",
    "    caches = []\n",
    "    # Relu Forward activation   \n",
    "    for i in range(1, L):\n",
    "        A_prev = A\n",
    "        A, cache = activation_forward(A_prev, parameters['W'+str(i)], parameters['b'+str(i)], activation = 'relu')\n",
    "        caches.append(cache)\n",
    "    # Sigmoid Forward activation\n",
    "    AL, cache = activation_forward(A, parameters['W'+str(L)], parameters['b'+str(L)], activation = 'sigmoid')\n",
    "    caches.append(cache)\n",
    "    \n",
    "    return AL, caches"
   ]
  },
  {
   "cell_type": "code",
   "execution_count": 10,
   "metadata": {},
   "outputs": [],
   "source": [
    "def compute_cost(A, Y):\n",
    "    # Number of samples\n",
    "    m = Y.shape[1]\n",
    "    c = (1./m) * (-np.dot(Y,np.log(A).T) - np.dot(1-Y, np.log(1-A).T)) \n",
    "    c = np.squeeze(c)\n",
    "    \n",
    "    return c"
   ]
  },
  {
   "cell_type": "code",
   "execution_count": 11,
   "metadata": {},
   "outputs": [],
   "source": [
    "def sigmoid_backward(dA, cache):\n",
    "    Z = cache\n",
    "    sig = 1 / (1 + np.exp(-Z))\n",
    "    dZ = dA * sig * (1-sig)\n",
    "    \n",
    "    return dZ"
   ]
  },
  {
   "cell_type": "code",
   "execution_count": 12,
   "metadata": {},
   "outputs": [],
   "source": [
    "def relu_backward(dA, cache):\n",
    "    Z = cache\n",
    "    # Converting dZ to a correct object\n",
    "    dZ = np.array(dA, copy = True)\n",
    "    # When Z turn to 0, then dZ turns to 0\n",
    "    dZ[Z <= 0] = 0\n",
    "    \n",
    "    return dZ"
   ]
  },
  {
   "cell_type": "code",
   "execution_count": 13,
   "metadata": {},
   "outputs": [],
   "source": [
    "def linear_backward(dZ, cache):\n",
    "    A_prev, W, b = cache\n",
    "    m = A_prev.shape[1]\n",
    "    \n",
    "    dW = (1./m) * np.dot(dZ, A_prev.T)\n",
    "    db = (1./m) * np.sum(dZ, axis = 1, keepdims =True)\n",
    "    dA_prev = np.dot(W.T, dZ)\n",
    "    \n",
    "    return dA_prev, dW, db"
   ]
  },
  {
   "cell_type": "code",
   "execution_count": 14,
   "metadata": {},
   "outputs": [],
   "source": [
    "def activation_backward(dA, cache, activation):\n",
    "    linear_cache, activation_cache = cache\n",
    "    if activation == 'sigmoid':\n",
    "        dZ = sigmoid_backward(dA, activation_cache)\n",
    "        dA_prev, dW, db = linear_backward(dZ, linear_cache)\n",
    "    elif activation == 'relu' :\n",
    "        dZ = relu_backward(dA, activation_cache)\n",
    "        dA_prev, dW, db = linear_backward(dZ, linear_cache)\n",
    "        \n",
    "    return dA_prev, dW, db"
   ]
  },
  {
   "cell_type": "code",
   "execution_count": 15,
   "metadata": {},
   "outputs": [],
   "source": [
    "def backward_propagation(AL, Y, caches):\n",
    "    '''\n",
    "    \n",
    "    '''\n",
    "    grads = {}\n",
    "    L = len(caches) # Number of layers\n",
    "    m = AL.shape[1]\n",
    "    # Reshape Y to AL shape\n",
    "    Y = Y.reshape(AL.shape)\n",
    "    \n",
    "    # Initialize the packpropagation\n",
    "    dAL = -(np.divide(Y, AL) - np.divide(1 - Y, 1 - AL))\n",
    "    \n",
    "    # Backpropagation on Lth layer (Sigmoid)\n",
    "    current_cache = caches[L-1]\n",
    "    grads['dA' + str(L-1)], grads['dW' + str(L)], grads['db' + str(L)] = activation_backward(dAL, current_cache, activation = 'sigmoid')\n",
    "    \n",
    "    # Backpropagation on L-1 to 1 th layer (relu)\n",
    "    for i in reversed(range(L-1)):\n",
    "        current_cache = caches[i]\n",
    "        # dW + (i+1) data is used since reversed(range(4)) is 3,2,1,0 \n",
    "        grads['dA' + str(i)], grads['dW' + str(i+1)], grads['db' + str(i+1)] = activation_backward(grads['dA' + str(i+1)], current_cache, activation = 'relu')\n",
    "    \n",
    "    return grads"
   ]
  },
  {
   "cell_type": "code",
   "execution_count": 16,
   "metadata": {},
   "outputs": [],
   "source": [
    "def update_parameters(parameters, grads, learning_rate):\n",
    "    \n",
    "    L = len(parameters) // 2\n",
    "    \n",
    "    for l in range(L):\n",
    "        parameters[\"W\" + str(l+1)] = parameters[\"W\" + str(l+1)] - (learning_rate * grads[\"dW\" + str(l + 1)])\n",
    "        parameters[\"b\" + str(l+1)] = parameters[\"b\" + str(l+1)] - (learning_rate * grads[\"db\" + str(l + 1)])\n",
    "        \n",
    "    return parameters\n",
    "    "
   ]
  },
  {
   "cell_type": "code",
   "execution_count": 17,
   "metadata": {},
   "outputs": [],
   "source": [
    "def model(X, Y, dim, learning_rate, iteration, print_cost = False):\n",
    "    np.random.seed(3)\n",
    "    costs =[]\n",
    "    # Initialize parameters\n",
    "    parameters = initialize_parameters(dim)\n",
    "    \n",
    "    ######### Loop Gradient Descent #########\n",
    "    for i in range(0, iteration):\n",
    "        ######### Forward Propagation ##########\n",
    "        AL , cache = forward_propagation(X , parameters)\n",
    "        \n",
    "        ######### Compute cost ##########\n",
    "        cost = compute_cost(AL, Y)\n",
    "        \n",
    "        ######### Backward propagation #########\n",
    "        grads = backward_propagation(AL, Y, cache)\n",
    "        \n",
    "        ######### Update Parameters #########\n",
    "        parameters = update_parameters(parameters, grads, learning_rate)\n",
    "        \n",
    "        # Print the cost every 100 training example\n",
    "        if print_cost and i % 100 == 0:\n",
    "            print (\"Cost after iteration %i: %f\" %(i, cost))\n",
    "        if print_cost and i % 100 == 0:\n",
    "            costs.append(cost)\n",
    "            \n",
    "        # plot the cost\n",
    "    plt.plot(np.squeeze(costs))\n",
    "    plt.ylabel('cost')\n",
    "    plt.xlabel('iterations (per hundreds)')\n",
    "    plt.title(\"Learning rate =\" + str(learning_rate))\n",
    "    plt.show()\n",
    "\n",
    "    return parameters  "
   ]
  },
  {
   "cell_type": "code",
   "execution_count": 18,
   "metadata": {},
   "outputs": [
    {
     "name": "stdout",
     "output_type": "stream",
     "text": [
      "Image showed below is a b'non-cat'\n"
     ]
    },
    {
     "data": {
      "image/png": "[encoded data removed]",
      "text/plain": [
       "<Figure size 432x288 with 1 Axes>"
      ]
     },
     "metadata": {
      "needs_background": "light"
     },
     "output_type": "display_data"
    }
   ],
   "source": [
    "# Load Dataset\n",
    "X_train, Y_train, X_test, Y_test, classes = load_dataset()\n",
    "# Display the image\n",
    "index = 36\n",
    "print(\"Image showed below is a\", classes[int(np.squeeze(Y_train[:,index]))] )\n",
    "plt.imshow(X_train[index])\n",
    "\n",
    "# Preprocess data\n",
    "X_train, X_test = preprocessing(X_train, X_test)"
   ]
  },
  {
   "cell_type": "code",
   "execution_count": 19,
   "metadata": {},
   "outputs": [
    {
     "name": "stdout",
     "output_type": "stream",
     "text": [
      "Cost after iteration 0: 0.771749\n",
      "Cost after iteration 100: 0.672053\n",
      "Cost after iteration 200: 0.648263\n",
      "Cost after iteration 300: 0.611507\n",
      "Cost after iteration 400: 0.567047\n",
      "Cost after iteration 500: 0.540138\n",
      "Cost after iteration 600: 0.527930\n",
      "Cost after iteration 700: 0.465477\n",
      "Cost after iteration 800: 0.369126\n",
      "Cost after iteration 900: 0.391747\n",
      "Cost after iteration 1000: 0.315187\n",
      "Cost after iteration 1100: 0.272700\n",
      "Cost after iteration 1200: 0.237419\n",
      "Cost after iteration 1300: 0.199601\n",
      "Cost after iteration 1400: 0.189263\n",
      "Cost after iteration 1500: 0.161189\n",
      "Cost after iteration 1600: 0.148214\n",
      "Cost after iteration 1700: 0.137775\n",
      "Cost after iteration 1800: 0.129740\n",
      "Cost after iteration 1900: 0.121225\n",
      "Cost after iteration 2000: 0.113821\n",
      "Cost after iteration 2100: 0.107839\n",
      "Cost after iteration 2200: 0.102855\n",
      "Cost after iteration 2300: 0.100897\n",
      "Cost after iteration 2400: 0.092878\n"
     ]
    },
    {
     "data": {
      "image/png": "[encoded data removed]",
      "text/plain": [
       "<Figure size 432x288 with 1 Axes>"
      ]
     },
     "metadata": {
      "needs_background": "light"
     },
     "output_type": "display_data"
    }
   ],
   "source": [
    "# Initialize the layer dimension\n",
    "dim = [X_train.shape[0], 20, 7, 5, 1]\n",
    "\n",
    "# Implement model\n",
    "parameters = model(X_train, Y_train, dim, learning_rate = 0.0075, iteration = 2500, print_cost = True )"
   ]
  },
  {
   "cell_type": "code",
   "execution_count": 20,
   "metadata": {},
   "outputs": [],
   "source": [
    "def predict(X, Y, parameters):\n",
    "    \n",
    "    m = X.shape[1]\n",
    "    pred = np.zeros((1,m))\n",
    "    \n",
    "    # Perform forward propagation\n",
    "    AL, cache = forward_propagation(X, parameters)\n",
    "    \n",
    "    # If predict greater than 0.5 then its a cat\n",
    "    for i in range(0, AL.shape[1]):\n",
    "        if AL[0,i] > 0.5 :\n",
    "            pred[0, i] = 1\n",
    "        else :\n",
    "            pred[0, i] = 0\n",
    "            \n",
    "    return pred"
   ]
  },
  {
   "cell_type": "code",
   "execution_count": 21,
   "metadata": {},
   "outputs": [
    {
     "name": "stdout",
     "output_type": "stream",
     "text": [
      "Train Accuracy : 0.9856459330143539\n",
      "Test Accuracy : 0.8\n"
     ]
    }
   ],
   "source": [
    "predict_train = predict(X_train, Y_train, parameters)\n",
    "\n",
    "print(\"Train Accuracy : \" + str(np.sum((predict_train == Y_train) / X_train.shape[1])))\n",
    "\n",
    "predict_test = predict(X_test, Y_test, parameters)\n",
    "\n",
    "print(\"Test Accuracy : \" + str(np.sum((predict_test == Y_test) / X_test.shape[1])))"
   ]
  }
 ],
 "metadata": {
  "kernelspec": {
   "display_name": "Python 3",
   "language": "python",
   "name": "python3"
  },
  "language_info": {
   "codemirror_mode": {
    "name": "ipython",
    "version": 3
   },
   "file_extension": ".py",
   "mimetype": "text/x-python",
   "name": "python",
   "nbconvert_exporter": "python",
   "pygments_lexer": "ipython3",
   "version": "3.6.8"
  }
 },
 "nbformat": 4,
 "nbformat_minor": 2
}
